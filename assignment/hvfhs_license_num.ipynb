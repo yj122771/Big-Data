{
 "cells": [
  {
   "cell_type": "markdown",
   "id": "4cd755c6",
   "metadata": {},
   "source": [
    "---\n",
    "* import pandas as pd : Python 에서 데이터 처리를 위한 라이브러리, 데이터 객체인 DataFrame 을 다룰 수 있어 데이터 분석이나 데이터 처리를 유용하게 할 수 있는 라이브러리 \n",
    "---\n",
    "* file_path = ''      : 파일경로 지정 \n",
    "---\n",
    "* df = pd.read_csv(file_path) : file_path 변수에 담긴 파일경로로 csv file 을 Dataframe 으로 읽어옴\n",
    "--- \n",
    "* keys = set(df['hvfhs_license_num']) : set() 이라는 함수를 사용해서 df['hvfhs_license_num'] 값을 유니크하게 뽑아 keys 변수에 할당 \n",
    "---\n",
    "* result_dict['hvfhs_license_num'] = list(keys) : keys에 담긴 변수의 내용을 result_dict 라는 딕셔너리에 hvfhs_license_num 키에 value 로 할당 \n",
    "---\n",
    "* for key in keys:\n",
    "    count_dict[key] = 0               : unique 한 변수의 개수대로 count 를 하기 위해 count_dict 생성 후 value를 0으로 초기화 \n",
    "    \n",
    "--- \n",
    "* for data in list(df['hvfhs_license_num']):\n",
    "    if data in count_dict:\n",
    "        count_dict[data] += 1                  : 각각 keys를 count \n",
    "        \n",
    "---\n",
    "* result_dict['count'] = [count_dict[key] for key in keys] : result_dict에 count 라는 키값에 count_dict에 담긴 내용을 리스트 형태로 value 할당\n",
    "---\n",
    "* res_df = pd.DataFrame(result_dict) : result_dict을 DataFrame화 \n",
    "---"
   ]
  },
  {
   "cell_type": "code",
   "execution_count": 6,
   "id": "5b2c919c",
   "metadata": {},
   "outputs": [],
   "source": [
    "import pandas as pd                               \n",
    "file_path = './data/fhvhv_tripdata_2020-03_short.csv'     \n",
    "df = pd.read_csv(file_path)\n",
    "\n",
    "result_dict = {}\n",
    "keys = set(df['hvfhs_license_num']) \n",
    "result_dict['hvfhs_license_num'] = list(keys)\n",
    "\n",
    "count_dict = {}\n",
    "for key in keys:\n",
    "    count_dict[key] = 0\n",
    "\n",
    "for data in list(df['hvfhs_license_num']):\n",
    "    if data in count_dict:\n",
    "        count_dict[data] += 1\n",
    "\n",
    "result_dict['count'] = [count_dict[key] for key in keys]\n",
    "res_df = pd.DataFrame(result_dict)"
   ]
  },
  {
   "cell_type": "code",
   "execution_count": 7,
   "id": "34dca3ec",
   "metadata": {},
   "outputs": [
    {
     "data": {
      "text/html": [
       "<div>\n",
       "<style scoped>\n",
       "    .dataframe tbody tr th:only-of-type {\n",
       "        vertical-align: middle;\n",
       "    }\n",
       "\n",
       "    .dataframe tbody tr th {\n",
       "        vertical-align: top;\n",
       "    }\n",
       "\n",
       "    .dataframe thead th {\n",
       "        text-align: right;\n",
       "    }\n",
       "</style>\n",
       "<table border=\"1\" class=\"dataframe\">\n",
       "  <thead>\n",
       "    <tr style=\"text-align: right;\">\n",
       "      <th></th>\n",
       "      <th>hvfhs_license_num</th>\n",
       "      <th>count</th>\n",
       "    </tr>\n",
       "  </thead>\n",
       "  <tbody>\n",
       "    <tr>\n",
       "      <th>0</th>\n",
       "      <td>HV0003</td>\n",
       "      <td>3537637</td>\n",
       "    </tr>\n",
       "    <tr>\n",
       "      <th>1</th>\n",
       "      <td>HV0005</td>\n",
       "      <td>1176143</td>\n",
       "    </tr>\n",
       "    <tr>\n",
       "      <th>2</th>\n",
       "      <td>HV0004</td>\n",
       "      <td>147216</td>\n",
       "    </tr>\n",
       "  </tbody>\n",
       "</table>\n",
       "</div>"
      ],
      "text/plain": [
       "  hvfhs_license_num    count\n",
       "0            HV0003  3537637\n",
       "1            HV0005  1176143\n",
       "2            HV0004   147216"
      ]
     },
     "execution_count": 7,
     "metadata": {},
     "output_type": "execute_result"
    }
   ],
   "source": [
    "res_df"
   ]
  },
  {
   "cell_type": "code",
   "execution_count": null,
   "id": "48b6b470-bef7-4ca0-bac8-6c77e0ca0f16",
   "metadata": {},
   "outputs": [],
   "source": []
  }
 ],
 "metadata": {
  "kernelspec": {
   "display_name": "Python 3 (ipykernel)",
   "language": "python",
   "name": "python3"
  },
  "language_info": {
   "codemirror_mode": {
    "name": "ipython",
    "version": 3
   },
   "file_extension": ".py",
   "mimetype": "text/x-python",
   "name": "python",
   "nbconvert_exporter": "python",
   "pygments_lexer": "ipython3",
   "version": "3.9.13"
  }
 },
 "nbformat": 4,
 "nbformat_minor": 5
}
