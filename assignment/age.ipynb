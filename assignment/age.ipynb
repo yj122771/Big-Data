{
 "cells": [
  {
   "cell_type": "code",
   "execution_count": 1,
   "id": "cec52e28-ae94-40be-8f60-8e3cf01b1902",
   "metadata": {},
   "outputs": [
    {
     "name": "stdout",
     "output_type": "stream",
     "text": [
      "23/05/22 21:03:33 WARN Utils: Your hostname, yeongjins-MacBook-Air.local resolves to a loopback address: 127.0.0.1; using 10.60.2.68 instead (on interface en0)\n",
      "23/05/22 21:03:33 WARN Utils: Set SPARK_LOCAL_IP if you need to bind to another address\n"
     ]
    },
    {
     "name": "stderr",
     "output_type": "stream",
     "text": [
      "Setting default log level to \"WARN\".\n",
      "To adjust logging level use sc.setLogLevel(newLevel). For SparkR, use setLogLevel(newLevel).\n"
     ]
    },
    {
     "name": "stdout",
     "output_type": "stream",
     "text": [
      "23/05/22 21:03:33 WARN NativeCodeLoader: Unable to load native-hadoop library for your platform... using builtin-java classes where applicable\n"
     ]
    }
   ],
   "source": [
    "from pyspark.sql import SparkSession\n",
    "\n",
    "spark = SparkSession.builder.master('local').appName('udf').getOrCreate()"
   ]
  },
  {
   "cell_type": "code",
   "execution_count": 3,
   "id": "c3fe3409-9d8e-49ae-8cb4-335308aff457",
   "metadata": {},
   "outputs": [],
   "source": [
    "age_category = [\n",
    "    ('a', 25),\n",
    "    ('b', 36),\n",
    "    ('c', 27),\n",
    "    ('d', 70),\n",
    "]"
   ]
  },
  {
   "cell_type": "code",
   "execution_count": 7,
   "id": "ace2de2c-9e69-4a41-b906-6fb0d87e2d20",
   "metadata": {},
   "outputs": [],
   "source": [
    "schema = ['name', 'age']"
   ]
  },
  {
   "cell_type": "code",
   "execution_count": 8,
   "id": "fc360118-2534-46b8-9aa3-a37813286c98",
   "metadata": {},
   "outputs": [],
   "source": [
    "df = spark.createDataFrame(data = age_category, schema = schema)"
   ]
  },
  {
   "cell_type": "code",
   "execution_count": 9,
   "id": "eda67cc6-dfc7-47fa-afc0-4128f3a97df2",
   "metadata": {},
   "outputs": [
    {
     "name": "stderr",
     "output_type": "stream",
     "text": [
      "[Stage 0:>                                                          (0 + 1) / 1]\r"
     ]
    },
    {
     "name": "stdout",
     "output_type": "stream",
     "text": [
      "+----+---+\n",
      "|name|age|\n",
      "+----+---+\n",
      "|   a| 25|\n",
      "|   b| 36|\n",
      "|   c| 27|\n",
      "|   d| 70|\n",
      "+----+---+\n",
      "\n"
     ]
    },
    {
     "name": "stderr",
     "output_type": "stream",
     "text": [
      "                                                                                \r"
     ]
    }
   ],
   "source": [
    "df.show()"
   ]
  },
  {
   "cell_type": "code",
   "execution_count": 11,
   "id": "0ba39777-9b8e-41d6-aadb-db34e5be8258",
   "metadata": {},
   "outputs": [
    {
     "name": "stdout",
     "output_type": "stream",
     "text": [
      "root\n",
      " |-- name: string (nullable = true)\n",
      " |-- age: long (nullable = true)\n",
      "\n"
     ]
    }
   ],
   "source": [
    "df.printSchema()"
   ]
  },
  {
   "cell_type": "code",
   "execution_count": null,
   "id": "223caf16-c357-437f-87bc-ac84746d9749",
   "metadata": {},
   "outputs": [],
   "source": []
  }
 ],
 "metadata": {
  "kernelspec": {
   "display_name": "Python 3 (ipykernel)",
   "language": "python",
   "name": "python3"
  },
  "language_info": {
   "codemirror_mode": {
    "name": "ipython",
    "version": 3
   },
   "file_extension": ".py",
   "mimetype": "text/x-python",
   "name": "python",
   "nbconvert_exporter": "python",
   "pygments_lexer": "ipython3",
   "version": "3.9.13"
  }
 },
 "nbformat": 4,
 "nbformat_minor": 5
}
